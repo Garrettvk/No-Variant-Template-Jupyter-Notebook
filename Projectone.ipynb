{
 "cells": [
  {
   "cell_type": "code",
   "execution_count": 45,
   "metadata": {},
   "outputs": [],
   "source": [
    "# pandas data analysis library\n",
    "import pandas as pd\n",
    "\n",
    "# regular expressions library\n",
    "import re\n",
    "\n",
    "# this library allows us to read xlsx files\n",
    "import xlrd"
   ]
  },
  {
   "cell_type": "code",
   "execution_count": 46,
   "metadata": {},
   "outputs": [],
   "source": [
    "# read csv file containing webscraper output\n",
    "df = pd.read_csv('../data/webscrapper_output.csv')"
   ]
  },
  {
   "cell_type": "markdown",
   "metadata": {},
   "source": [
    "Split Dataframe into variance and no variance"
   ]
  },
  {
   "cell_type": "code",
   "execution_count": 47,
   "metadata": {},
   "outputs": [],
   "source": [
    "# determines whether a product is a duplicate based on the product's name\n",
    "variant_products = (df['productname'].duplicated(keep=False))\n",
    "\n",
    "# '~' makes it so only false values are returned\n",
    "no_variant_products = ~variant_products"
   ]
  },
  {
   "cell_type": "code",
   "execution_count": 48,
   "metadata": {},
   "outputs": [],
   "source": [
    "# assign df to products with no variance\n",
    "df = df[no_variant_products]"
   ]
  },
  {
   "cell_type": "markdown",
   "metadata": {},
   "source": [
    "Add Domain To Image Links"
   ]
  },
  {
   "cell_type": "code",
   "execution_count": 49,
   "metadata": {},
   "outputs": [],
   "source": [
    "# this function adds website domain to image links\n",
    "def add_domain_to_image_links(image_link):\n",
    "\n",
    "    domain = 'www.wonatrading.com/'\n",
    "\n",
    "    # if image link is a string add domain\n",
    "    if isinstance(image_link, str):\n",
    "        return domain + image_link\n",
    "\n",
    "    # otherwise return \n",
    "    return ''"
   ]
  },
  {
   "cell_type": "code",
   "execution_count": 50,
   "metadata": {},
   "outputs": [],
   "source": [
    "# apply add_domain_to_image_links to both image columns \n",
    "df['image1'] = df['image1'].apply(add_domain_to_image_links)\n",
    "df['image2'] = df['image2'].apply(add_domain_to_image_links)"
   ]
  },
  {
   "cell_type": "markdown",
   "metadata": {},
   "source": [
    "Clean Price Column"
   ]
  },
  {
   "cell_type": "code",
   "execution_count": 51,
   "metadata": {},
   "outputs": [],
   "source": [
    "# this function returns the first price found in price column\n",
    "def clean_price(price):\n",
    "\n",
    "    pattern = re.compile(r'\\d.{2}\\d')  # pattern we're looking for\n",
    "\n",
    "    matches = pattern.finditer(price)  # number of matches found\n",
    "\n",
    "    matches_list = [match.group() for match in matches]\n",
    "\n",
    "    return matches_list[0]"
   ]
  },
  {
   "cell_type": "code",
   "execution_count": 52,
   "metadata": {},
   "outputs": [],
   "source": [
    "df['price'] = df['price'].apply(clean_price) "
   ]
  },
  {
   "cell_type": "markdown",
   "metadata": {},
   "source": [
    "Combine all 3 category columns into 1 Column"
   ]
  },
  {
   "cell_type": "code",
   "execution_count": 53,
   "metadata": {},
   "outputs": [],
   "source": [
    "# combine each category column into 1\n",
    "# JEWELRY;ANKLET/FASHION\n",
    "df['category'] = df['category1'] + ';' + df['category2'] + '/' + df['category3']\n",
    "\n",
    "# delete old category columns\n",
    "df.drop(['category1', 'category2', 'category3'], axis=1, inplace=True)"
   ]
  },
  {
   "cell_type": "markdown",
   "metadata": {},
   "source": [
    "Clean Description Functions"
   ]
  },
  {
   "cell_type": "code",
   "execution_count": 54,
   "metadata": {},
   "outputs": [],
   "source": [
    "def remove_name_from_product_description(description):\n",
    "\n",
    "    # r'\\s' + adds a white space to the begining of the pattern\n",
    "    pattern = r'\\s' + df['productname']  # pattern we're looking for\n",
    "\n",
    "    replacement = ''  # what to replace the string with\n",
    "\n",
    "    target = description  # the string we want to replace\n",
    "\n",
    "    # re.sub replaces the string and ignorescase\n",
    "    replaced = re.sub(pattern, replacement, target, flags=re.IGNORECASE)\n",
    "\n",
    "    # replace description of each product in original file\n",
    "    return replaced\n",
    "\n",
    "def remove_style_number_from_product_description(description):\n",
    "\n",
    "    pattern = r'( Style No : )\\d+\\s' # pattern we're looking for\n",
    "\n",
    "    replacement = ''  # replace pattern with nothing\n",
    "\n",
    "    target = description  # the string we want to replace\n",
    "\n",
    "    # re.sub replaces the string and ignorescase\n",
    "    replaced = re.sub(pattern, replacement, target, flags=re.IGNORECASE)\n",
    "\n",
    "    # return the cleaned string\n",
    "    return replaced\n",
    "\n",
    "def remove_colors_from_descrition(description):\n",
    "    \n",
    "    # pattern we're looking for\n",
    "    # 2 patterns\n",
    "    # (Color : )\\w+\\s OR (Color : )\\w+,\\s*\\w+\\s*\n",
    "    pattern = r'((Color : )\\w+\\s|(Color : )\\w+,\\s*\\w+\\s*)'    \n",
    "\n",
    "    replacement = ''             # replace pattern with nothing\n",
    "    target = description         # the string we want to replace\n",
    "\n",
    "    # re.sub replaces the string and ignorescase\n",
    "    replaced = re.sub(pattern, replacement, target, flags=re.IGNORECASE)\n",
    "\n",
    "    return replaced # return the cleaned string"
   ]
  },
  {
   "cell_type": "markdown",
   "metadata": {},
   "source": [
    "(Clean Description) Dataframe Description Column = result of all the functions"
   ]
  },
  {
   "cell_type": "code",
   "execution_count": 55,
   "metadata": {},
   "outputs": [
    {
     "data": {
      "text/plain": [
       "0               Theme : Pearl  Size : 0.25\"H, 9\" + 3\" L  One Side Only Lead and Nickel Compliant \n",
       "1                        Size : 0.1\" H, 8.25\" H, 2.5\" L  One Side Only Lead and Nickel Compliant \n",
       "8    Theme : Message  Size : 2.25\" X 0.7\", 8.25\" + 3\" L  One Side Only Lead and Nickel Compliant \n",
       "Name: description, dtype: object"
      ]
     },
     "execution_count": 55,
     "metadata": {},
     "output_type": "execute_result"
    }
   ],
   "source": [
    "# remove style number from description\n",
    "df['description'] = df['description'].apply(remove_style_number_from_product_description)\n",
    "\n",
    "# remove colors from description\n",
    "df['description'] = df['description'].apply(remove_colors_from_descrition)\n",
    "\n",
    "# list of all product names\n",
    "productname_list = df['productname'].tolist()\n",
    "\n",
    "# remove product names from product description column\n",
    "df['description'] = df['description'].str.replace('|'.join(productname_list), '')\n",
    "\n",
    "# prints entire column width\n",
    "pd.set_option('display.max_colwidth', 1000)\n",
    "\n",
    "# print description column\n",
    "df['description']"
   ]
  },
  {
   "cell_type": "markdown",
   "metadata": {},
   "source": [
    "Change column names to the column names in no variant template"
   ]
  },
  {
   "cell_type": "code",
   "execution_count": 56,
   "metadata": {},
   "outputs": [
    {
     "data": {
      "text/html": [
       "<div>\n",
       "<style scoped>\n",
       "    .dataframe tbody tr th:only-of-type {\n",
       "        vertical-align: middle;\n",
       "    }\n",
       "\n",
       "    .dataframe tbody tr th {\n",
       "        vertical-align: top;\n",
       "    }\n",
       "\n",
       "    .dataframe thead th {\n",
       "        text-align: right;\n",
       "    }\n",
       "</style>\n",
       "<table border=\"1\" class=\"dataframe\">\n",
       "  <thead>\n",
       "    <tr style=\"text-align: right;\">\n",
       "      <th></th>\n",
       "      <th>Product Name</th>\n",
       "      <th>Product Image File - 1</th>\n",
       "      <th>Product Image File - 2</th>\n",
       "      <th>Product Description</th>\n",
       "      <th>Price</th>\n",
       "      <th>Category</th>\n",
       "    </tr>\n",
       "  </thead>\n",
       "  <tbody>\n",
       "    <tr>\n",
       "      <td>0</td>\n",
       "      <td>Freshwater Pearl Disc Beaded Anklet</td>\n",
       "      <td>www.wonatrading.com/images/20200312/AK0001-@GD-NMLT1@025H-9_3L@479682@375@01.jpg</td>\n",
       "      <td></td>\n",
       "      <td>Theme : Pearl  Size : 0.25\"H, 9\" + 3\" L  One Side Only Lead and Nickel Compliant</td>\n",
       "      <td>3.75</td>\n",
       "      <td>JEWELRY;ANKLET/FASHION</td>\n",
       "    </tr>\n",
       "    <tr>\n",
       "      <td>1</td>\n",
       "      <td>Bead Link Layered Anklet</td>\n",
       "      <td>www.wonatrading.com/images/20200123/AK0002-@GD-HEM@01H-825_25L@473115@375@01.jpg</td>\n",
       "      <td></td>\n",
       "      <td>Size : 0.1\" H, 8.25\" H, 2.5\" L  One Side Only Lead and Nickel Compliant</td>\n",
       "      <td>3.75</td>\n",
       "      <td>JEWELRY;ANKLET/FASHION</td>\n",
       "    </tr>\n",
       "    <tr>\n",
       "      <td>8</td>\n",
       "      <td>Rhinestone Pave Boss Anklet</td>\n",
       "      <td>www.wonatrading.com/images/20191206/AK1503-@GD-CRY-BOSS@225X07-825_3L@467403@200@01.jpg</td>\n",
       "      <td>www.wonatrading.com/images/20191206/des_img/AK1503-@GD-CRY-BOSS@225X07-825_3L@467403@200@01@1.jpg</td>\n",
       "      <td>Theme : Message  Size : 2.25\" X 0.7\", 8.25\" + 3\" L  One Side Only Lead and Nickel Compliant</td>\n",
       "      <td>2.00</td>\n",
       "      <td>JEWELRY;ANKLET/FASHION</td>\n",
       "    </tr>\n",
       "  </tbody>\n",
       "</table>\n",
       "</div>"
      ],
      "text/plain": [
       "                          Product Name  \\\n",
       "0  Freshwater Pearl Disc Beaded Anklet   \n",
       "1            Bead Link Layered Anklet    \n",
       "8          Rhinestone Pave Boss Anklet   \n",
       "\n",
       "                                                                    Product Image File - 1  \\\n",
       "0         www.wonatrading.com/images/20200312/AK0001-@GD-NMLT1@025H-9_3L@479682@375@01.jpg   \n",
       "1         www.wonatrading.com/images/20200123/AK0002-@GD-HEM@01H-825_25L@473115@375@01.jpg   \n",
       "8  www.wonatrading.com/images/20191206/AK1503-@GD-CRY-BOSS@225X07-825_3L@467403@200@01.jpg   \n",
       "\n",
       "                                                                              Product Image File - 2  \\\n",
       "0                                                                                                      \n",
       "1                                                                                                      \n",
       "8  www.wonatrading.com/images/20191206/des_img/AK1503-@GD-CRY-BOSS@225X07-825_3L@467403@200@01@1.jpg   \n",
       "\n",
       "                                                                            Product Description  \\\n",
       "0             Theme : Pearl  Size : 0.25\"H, 9\" + 3\" L  One Side Only Lead and Nickel Compliant    \n",
       "1                      Size : 0.1\" H, 8.25\" H, 2.5\" L  One Side Only Lead and Nickel Compliant    \n",
       "8  Theme : Message  Size : 2.25\" X 0.7\", 8.25\" + 3\" L  One Side Only Lead and Nickel Compliant    \n",
       "\n",
       "  Price                Category  \n",
       "0  3.75  JEWELRY;ANKLET/FASHION  \n",
       "1  3.75  JEWELRY;ANKLET/FASHION  \n",
       "8  2.00  JEWELRY;ANKLET/FASHION  "
      ]
     },
     "execution_count": 56,
     "metadata": {},
     "output_type": "execute_result"
    }
   ],
   "source": [
    "# 2 lists containing the field names for input and outputs\n",
    "input_columns = ['productname','category','image1','image2','description','price']\n",
    "output_columns = ['Product Name', 'Category','Product Image File - 1','Product Image File - 2','Product Description','Price']\n",
    "\n",
    "# keys are original column names, values are what they should be changed to\n",
    "change_column_names_dictionary = dict(zip(input_columns, output_columns))\n",
    "\n",
    "# this is the command changes column names in dataframe to column names that are in no variant template\n",
    "# inplace=True means that it applies the change to original data frame\n",
    "df.rename(columns=change_column_names_dictionary, inplace=True)\n",
    "\n",
    "df"
   ]
  },
  {
   "cell_type": "markdown",
   "metadata": {},
   "source": [
    "Add dataframe to no variant template"
   ]
  },
  {
   "cell_type": "markdown",
   "metadata": {},
   "source": [
    "open exel files and get field names and default values"
   ]
  },
  {
   "cell_type": "code",
   "execution_count": 57,
   "metadata": {},
   "outputs": [
    {
     "data": {
      "text/html": [
       "<div>\n",
       "<style scoped>\n",
       "    .dataframe tbody tr th:only-of-type {\n",
       "        vertical-align: middle;\n",
       "    }\n",
       "\n",
       "    .dataframe tbody tr th {\n",
       "        vertical-align: top;\n",
       "    }\n",
       "\n",
       "    .dataframe thead th {\n",
       "        text-align: right;\n",
       "    }\n",
       "</style>\n",
       "<table border=\"1\" class=\"dataframe\">\n",
       "  <thead>\n",
       "    <tr style=\"text-align: right;\">\n",
       "      <th></th>\n",
       "      <th>Field</th>\n",
       "      <th>NEW PRODUCT WITH NO VARIANT</th>\n",
       "      <th>EXAMPLE</th>\n",
       "    </tr>\n",
       "  </thead>\n",
       "  <tbody>\n",
       "    <tr>\n",
       "      <td>0</td>\n",
       "      <td>Item Type</td>\n",
       "      <td>Fill the column with: product</td>\n",
       "      <td>Product</td>\n",
       "    </tr>\n",
       "    <tr>\n",
       "      <td>1</td>\n",
       "      <td>Product ID</td>\n",
       "      <td>Leave blank</td>\n",
       "      <td>NaN</td>\n",
       "    </tr>\n",
       "    <tr>\n",
       "      <td>2</td>\n",
       "      <td>Product Name</td>\n",
       "      <td>Fill with :product name</td>\n",
       "      <td>2PCS - HEART CHARM METAL LINK LAYERED ANKLETS</td>\n",
       "    </tr>\n",
       "    <tr>\n",
       "      <td>3</td>\n",
       "      <td>Product Type</td>\n",
       "      <td>Fill the column with :P</td>\n",
       "      <td>P</td>\n",
       "    </tr>\n",
       "    <tr>\n",
       "      <td>4</td>\n",
       "      <td>Product Code/SKU</td>\n",
       "      <td>Fill with product style number.</td>\n",
       "      <td>479533</td>\n",
       "    </tr>\n",
       "    <tr>\n",
       "      <td>...</td>\n",
       "      <td>...</td>\n",
       "      <td>...</td>\n",
       "      <td>...</td>\n",
       "    </tr>\n",
       "    <tr>\n",
       "      <td>73</td>\n",
       "      <td>GPS Item Group ID</td>\n",
       "      <td>Leave blank</td>\n",
       "      <td>NaN</td>\n",
       "    </tr>\n",
       "    <tr>\n",
       "      <td>74</td>\n",
       "      <td>GPS Category</td>\n",
       "      <td>Leave blank</td>\n",
       "      <td>NaN</td>\n",
       "    </tr>\n",
       "    <tr>\n",
       "      <td>75</td>\n",
       "      <td>GPS Enabled</td>\n",
       "      <td>Fill with N</td>\n",
       "      <td>N</td>\n",
       "    </tr>\n",
       "    <tr>\n",
       "      <td>76</td>\n",
       "      <td>Tax Provider Tax Code</td>\n",
       "      <td>Leave blank</td>\n",
       "      <td>NaN</td>\n",
       "    </tr>\n",
       "    <tr>\n",
       "      <td>77</td>\n",
       "      <td>Product Custom Fields</td>\n",
       "      <td>Use the format name=value (like Color=Blue;Material=Cotton).</td>\n",
       "      <td>Color=Gold</td>\n",
       "    </tr>\n",
       "  </tbody>\n",
       "</table>\n",
       "<p>78 rows × 3 columns</p>\n",
       "</div>"
      ],
      "text/plain": [
       "                    Field  \\\n",
       "0               Item Type   \n",
       "1              Product ID   \n",
       "2            Product Name   \n",
       "3            Product Type   \n",
       "4        Product Code/SKU   \n",
       "..                    ...   \n",
       "73      GPS Item Group ID   \n",
       "74           GPS Category   \n",
       "75            GPS Enabled   \n",
       "76  Tax Provider Tax Code   \n",
       "77  Product Custom Fields   \n",
       "\n",
       "                                     NEW PRODUCT WITH NO VARIANT  \\\n",
       "0                                 Fill the column with: product    \n",
       "1                                                    Leave blank   \n",
       "2                                       Fill with :product name    \n",
       "3                                        Fill the column with :P   \n",
       "4                                Fill with product style number.   \n",
       "..                                                           ...   \n",
       "73                                                   Leave blank   \n",
       "74                                                   Leave blank   \n",
       "75                                                   Fill with N   \n",
       "76                                                   Leave blank   \n",
       "77  Use the format name=value (like Color=Blue;Material=Cotton).   \n",
       "\n",
       "                                          EXAMPLE  \n",
       "0                                         Product  \n",
       "1                                             NaN  \n",
       "2   2PCS - HEART CHARM METAL LINK LAYERED ANKLETS  \n",
       "3                                               P  \n",
       "4                                          479533  \n",
       "..                                            ...  \n",
       "73                                            NaN  \n",
       "74                                            NaN  \n",
       "75                                              N  \n",
       "76                                            NaN  \n",
       "77                                     Color=Gold  \n",
       "\n",
       "[78 rows x 3 columns]"
      ]
     },
     "execution_count": 57,
     "metadata": {},
     "output_type": "execute_result"
    }
   ],
   "source": [
    "# open excel file\n",
    "no_variant_excel_df = pd.read_excel('No Variant Template Excel Spreadsheet.xlsx')\n",
    "\n",
    "# print file\n",
    "no_variant_excel_df"
   ]
  },
  {
   "cell_type": "code",
   "execution_count": 58,
   "metadata": {},
   "outputs": [
    {
     "data": {
      "text/plain": [
       "0                 Item Type\n",
       "1                Product ID\n",
       "2              Product Name\n",
       "3              Product Type\n",
       "4          Product Code/SKU\n",
       "              ...          \n",
       "73        GPS Item Group ID\n",
       "74             GPS Category\n",
       "75              GPS Enabled\n",
       "76    Tax Provider Tax Code\n",
       "77    Product Custom Fields\n",
       "Name: Field, Length: 78, dtype: object"
      ]
     },
     "execution_count": 58,
     "metadata": {},
     "output_type": "execute_result"
    }
   ],
   "source": [
    "# Column names are assigned to field column of excel file\n",
    "column_names = no_variant_excel_df['Field']\n",
    "\n",
    "# print column names\n",
    "column_names"
   ]
  },
  {
   "cell_type": "code",
   "execution_count": 59,
   "metadata": {},
   "outputs": [
    {
     "data": {
      "text/plain": [
       "0                                           Product\n",
       "1                                               NaN\n",
       "2     2PCS - HEART CHARM METAL LINK LAYERED ANKLETS\n",
       "3                                                 P\n",
       "4                                            479533\n",
       "                          ...                      \n",
       "73                                              NaN\n",
       "74                                              NaN\n",
       "75                                                N\n",
       "76                                              NaN\n",
       "77                                       Color=Gold\n",
       "Name: EXAMPLE, Length: 78, dtype: object"
      ]
     },
     "execution_count": 59,
     "metadata": {},
     "output_type": "execute_result"
    }
   ],
   "source": [
    "# default values are assigned to EXAMPLE column of excel file\n",
    "default_values = no_variant_excel_df['EXAMPLE']\n",
    "\n",
    "# print default values\n",
    "default_values"
   ]
  }
 ],
 "metadata": {
  "kernelspec": {
   "display_name": "Python 3",
   "language": "python",
   "name": "python3"
  },
  "language_info": {
   "codemirror_mode": {
    "name": "ipython",
    "version": 3
   },
   "file_extension": ".py",
   "mimetype": "text/x-python",
   "name": "python",
   "nbconvert_exporter": "python",
   "pygments_lexer": "ipython3",
   "version": "3.7.3"
  }
 },
 "nbformat": 4,
 "nbformat_minor": 2
}
