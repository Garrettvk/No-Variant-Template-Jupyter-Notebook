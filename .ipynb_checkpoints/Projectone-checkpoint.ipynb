{
 "cells": [
  {
   "cell_type": "code",
   "execution_count": null,
   "metadata": {},
   "outputs": [],
   "source": [
    "# pandas data analysis library\n",
    "import pandas as pd\n",
    "\n",
    "# regular expressions library\n",
    "import re\n",
    "\n",
    "# this library allows us to read xlsx files\n",
    "import xlrd"
   ]
  },
  {
   "cell_type": "code",
   "execution_count": null,
   "metadata": {},
   "outputs": [],
   "source": [
    "# read csv file containing webscraper output\n",
    "df = pd.read_csv('../data/webscrapper_output.csv')"
   ]
  },
  {
   "cell_type": "code",
   "execution_count": null,
   "metadata": {},
   "outputs": [],
   "source": [
    "# prints entire column width\n",
    "pd.set_option('display.max_colwidth', 1000)"
   ]
  },
  {
   "cell_type": "markdown",
   "metadata": {},
   "source": [
    "Split Dataframe into variance and no variance"
   ]
  },
  {
   "cell_type": "code",
   "execution_count": null,
   "metadata": {},
   "outputs": [],
   "source": [
    "# determines whether a product is a duplicate based on the product's name\n",
    "variant_products = (df['productname'].duplicated(keep=False))\n",
    "\n",
    "# '~' makes it so only false values are returned\n",
    "no_variant_products = ~variant_products"
   ]
  },
  {
   "cell_type": "code",
   "execution_count": null,
   "metadata": {},
   "outputs": [],
   "source": [
    "# assign df to products with no variance\n",
    "df = df[no_variant_products]"
   ]
  },
  {
   "cell_type": "markdown",
   "metadata": {},
   "source": [
    "Add Domain To Image Links"
   ]
  },
  {
   "cell_type": "code",
   "execution_count": null,
   "metadata": {},
   "outputs": [],
   "source": [
    "# this function adds website domain to image links\n",
    "def add_domain_to_image_links(image_link):\n",
    "\n",
    "    domain = 'www.wonatrading.com/'\n",
    "\n",
    "    # if image link is a string add domain\n",
    "    if isinstance(image_link, str):\n",
    "        return domain + image_link\n",
    "\n",
    "    # otherwise return \n",
    "    return ''"
   ]
  },
  {
   "cell_type": "code",
   "execution_count": null,
   "metadata": {},
   "outputs": [],
   "source": [
    "# apply add_domain_to_image_links to both image columns \n",
    "df['image1'] = df['image1'].apply(add_domain_to_image_links)\n",
    "df['image2'] = df['image2'].apply(add_domain_to_image_links)"
   ]
  },
  {
   "cell_type": "markdown",
   "metadata": {},
   "source": [
    "Clean Price Column"
   ]
  },
  {
   "cell_type": "code",
   "execution_count": null,
   "metadata": {},
   "outputs": [],
   "source": [
    "# this function returns the first price found in price column\n",
    "def clean_price(price):\n",
    "\n",
    "    pattern = re.compile(r'\\d.{2}\\d')  # pattern we're looking for\n",
    "\n",
    "    matches = pattern.finditer(price)  # number of matches found\n",
    "\n",
    "    matches_list = [match.group() for match in matches]\n",
    "\n",
    "    return matches_list[0]"
   ]
  },
  {
   "cell_type": "code",
   "execution_count": null,
   "metadata": {},
   "outputs": [],
   "source": [
    "df['price'] = df['price'].apply(clean_price) "
   ]
  },
  {
   "cell_type": "markdown",
   "metadata": {},
   "source": [
    "Combine all 3 category columns into 1 Column"
   ]
  },
  {
   "cell_type": "code",
   "execution_count": null,
   "metadata": {},
   "outputs": [],
   "source": [
    "# combine each category column into 1\n",
    "# JEWELRY;ANKLET/FASHION\n",
    "df['category'] = df['category1'] + ';' + df['category2'] + '/' + df['category3']\n",
    "\n",
    "# delete old category columns\n",
    "df.drop(['category1', 'category2', 'category3'], axis=1, inplace=True)"
   ]
  },
  {
   "cell_type": "markdown",
   "metadata": {},
   "source": [
    "Product Custom Fields Function"
   ]
  },
  {
   "cell_type": "code",
   "execution_count": null,
   "metadata": {},
   "outputs": [],
   "source": [
    "# regex pattern that finds colors in product description\n",
    "color_pattern = r'((Color : )\\w+\\s|(Color : )\\w+,\\s*\\w+\\s*)'\n",
    "\n",
    "# series object of all the colors from description column\n",
    "color_series = df['description'].str.extract(color_pattern)[0]\n",
    "\n",
    "# replace substring\n",
    "color_series = color_series.str.replace('Color : ', 'Color=')\n",
    "\n",
    "color_series"
   ]
  },
  {
   "cell_type": "markdown",
   "metadata": {},
   "source": [
    "Clean Description Functions"
   ]
  },
  {
   "cell_type": "code",
   "execution_count": null,
   "metadata": {},
   "outputs": [],
   "source": [
    "def remove_name_from_product_description(description):\n",
    "\n",
    "    # r'\\s' + adds a white space to the begining of the pattern\n",
    "    pattern = r'\\s' + df['productname']  # pattern we're looking for\n",
    "\n",
    "    replacement = ''  # what to replace the string with\n",
    "\n",
    "    target = description  # the string we want to replace\n",
    "\n",
    "    # re.sub replaces the string and ignorescase\n",
    "    replaced = re.sub(pattern, replacement, target, flags=re.IGNORECASE)\n",
    "\n",
    "    # replace description of each product in original file\n",
    "    return replaced\n",
    "\n",
    "def remove_style_number_from_product_description(description):\n",
    "\n",
    "    pattern = r'( Style No : )\\d+\\s' # pattern we're looking for\n",
    "\n",
    "    replacement = ''  # replace pattern with nothing\n",
    "\n",
    "    target = description  # the string we want to replace\n",
    "\n",
    "    # re.sub replaces the string and ignorescase\n",
    "    replaced = re.sub(pattern, replacement, target, flags=re.IGNORECASE)\n",
    "\n",
    "    # return the cleaned string\n",
    "    return replaced\n",
    "\n",
    "def remove_colors_from_descrition(description):\n",
    "    \n",
    "    # pattern we're looking for\n",
    "    # 2 patterns\n",
    "    # (Color : )\\w+\\s OR (Color : )\\w+,\\s*\\w+\\s*\n",
    "    pattern = r'((Color : )\\w+\\s|(Color : )\\w+,\\s*\\w+\\s*)'    \n",
    "\n",
    "    replacement = ''             # replace pattern with nothing\n",
    "    target = description         # the string we want to replace\n",
    "\n",
    "    # re.sub replaces the string and ignorescase\n",
    "    replaced = re.sub(pattern, replacement, target, flags=re.IGNORECASE)\n",
    "\n",
    "    return replaced # return the cleaned string"
   ]
  },
  {
   "cell_type": "markdown",
   "metadata": {},
   "source": [
    "(Clean Description) Dataframe Description Column = result of all the functions"
   ]
  },
  {
   "cell_type": "code",
   "execution_count": null,
   "metadata": {},
   "outputs": [],
   "source": [
    "# remove style number from description\n",
    "df['description'] = df['description'].apply(remove_style_number_from_product_description)\n",
    "\n",
    "# remove colors from description\n",
    "df['description'] = df['description'].apply(remove_colors_from_descrition)\n",
    "\n",
    "# list of all product names\n",
    "productname_list = df['productname'].tolist()\n",
    "\n",
    "# remove product names from product description column\n",
    "df['description'] = df['description'].str.replace('|'.join(productname_list), '')\n",
    "\n",
    "# print description column\n",
    "df['description']"
   ]
  },
  {
   "cell_type": "markdown",
   "metadata": {},
   "source": [
    "Change column names to the column names in no variant template"
   ]
  },
  {
   "cell_type": "code",
   "execution_count": null,
   "metadata": {},
   "outputs": [],
   "source": [
    "# 2 lists containing the field names for input and outputs\n",
    "input_columns = ['productname','category','image1','image2','description','price']\n",
    "output_columns = ['Product Name', 'Category','Product Image File - 1','Product Image File - 2','Product Description','Price']\n",
    "\n",
    "# keys are original column names, values are what they should be changed to\n",
    "change_column_names_dictionary = dict(zip(input_columns, output_columns))\n",
    "\n",
    "# this is the command changes column names in dataframe to column names that are in no variant template\n",
    "# inplace=True means that it applies the change to original data frame\n",
    "df.rename(columns=change_column_names_dictionary, inplace=True)\n",
    "\n",
    "df"
   ]
  },
  {
   "cell_type": "markdown",
   "metadata": {},
   "source": [
    "Create Data Frame for No Variant Template"
   ]
  },
  {
   "cell_type": "code",
   "execution_count": null,
   "metadata": {},
   "outputs": [],
   "source": [
    "# open excel file\n",
    "no_variant_excel_df = pd.read_excel('No Variant Template Excel Spreadsheet.xlsx')\n",
    "\n",
    "# print file\n",
    "no_variant_excel_df"
   ]
  },
  {
   "cell_type": "markdown",
   "metadata": {},
   "source": [
    "Column Names"
   ]
  },
  {
   "cell_type": "code",
   "execution_count": null,
   "metadata": {},
   "outputs": [],
   "source": [
    "# Column names are assigned to field column of excel file\n",
    "column_names = no_variant_excel_df['Field']\n",
    "\n",
    "# print column names\n",
    "column_names"
   ]
  },
  {
   "cell_type": "markdown",
   "metadata": {},
   "source": [
    "Default Values"
   ]
  },
  {
   "cell_type": "code",
   "execution_count": null,
   "metadata": {},
   "outputs": [],
   "source": [
    "# default values are assigned to EXAMPLE column of excel file\n",
    "# .fillna('') coverts NaN values to empty strings\n",
    "# .tolist() ensures the series data type is converted to a list\n",
    "default_values = no_variant_excel_df['EXAMPLE'].fillna('').tolist()\n",
    "\n",
    "# print default values\n",
    "default_values"
   ]
  },
  {
   "cell_type": "markdown",
   "metadata": {},
   "source": [
    "No Variant Template Dataframe"
   ]
  },
  {
   "cell_type": "code",
   "execution_count": null,
   "metadata": {},
   "outputs": [],
   "source": [
    "# DataFrame for 'No Variant Template.xlsx'\n",
    "no_variant_template_df = pd.DataFrame(\n",
    "    columns=column_names    # assign columns of dataframe to columns from excel file \n",
    "    )\n",
    "\n",
    "# print dataframe\n",
    "no_variant_template_df"
   ]
  },
  {
   "cell_type": "markdown",
   "metadata": {},
   "source": [
    "Add Data to no_variant_template_df"
   ]
  },
  {
   "cell_type": "code",
   "execution_count": null,
   "metadata": {},
   "outputs": [],
   "source": [
    "# append webscrapper data to no_variant_template_df\n",
    "no_variant_template_df = no_variant_template_df.append(df, sort=False)"
   ]
  },
  {
   "cell_type": "markdown",
   "metadata": {},
   "source": [
    "Fill NaN values with default values"
   ]
  },
  {
   "cell_type": "code",
   "execution_count": null,
   "metadata": {},
   "outputs": [],
   "source": [
    "no_variant_template_df.fillna(\n",
    "    dict( # Dictionary of 2 lists\n",
    "        zip(\n",
    "            no_variant_template_df.columns, # keys are the column names\n",
    "            default_values                  # values for each column are default_values list \n",
    "        )\n",
    "    ),\n",
    "    inplace=True # make change to original dataframe\n",
    ")\n",
    "\n",
    "# print dataframe\n",
    "no_variant_template_df"
   ]
  },
  {
   "cell_type": "markdown",
   "metadata": {},
   "source": [
    "Match Cost Price Column with Price Column "
   ]
  },
  {
   "cell_type": "code",
   "execution_count": null,
   "metadata": {},
   "outputs": [],
   "source": [
    "# cost price column = price column\n",
    "no_variant_template_df['Cost Price'] = no_variant_template_df['Price']\n",
    "\n",
    "# print cost price column\n",
    "no_variant_template_df['Cost Price']"
   ]
  },
  {
   "cell_type": "markdown",
   "metadata": {},
   "source": [
    "Fill Option Set with product name"
   ]
  },
  {
   "cell_type": "code",
   "execution_count": null,
   "metadata": {},
   "outputs": [],
   "source": [
    "# option set column = product name column\n",
    "no_variant_template_df['Option Set'] = no_variant_template_df['Product Name']\n",
    "\n",
    "# print option set column\n",
    "no_variant_template_df['Option Set']"
   ]
  },
  {
   "cell_type": "code",
   "execution_count": null,
   "metadata": {},
   "outputs": [],
   "source": [
    "# set Product Custom Fields column equal to color_series\n",
    "no_variant_template_df['Product Custom Fields'] = color_series\n",
    "\n",
    "# print Product Custom Fields column\n",
    "no_variant_template_df['Product Custom Fields']"
   ]
  },
  {
   "cell_type": "markdown",
   "metadata": {},
   "source": [
    "Write dataframe to csv file"
   ]
  },
  {
   "cell_type": "code",
   "execution_count": null,
   "metadata": {},
   "outputs": [],
   "source": [
    "no_variant_template_df.to_csv('output.csv', index=False)"
   ]
  }
 ],
 "metadata": {
  "kernelspec": {
   "display_name": "Python 3",
   "language": "python",
   "name": "python3"
  },
  "language_info": {
   "codemirror_mode": {
    "name": "ipython",
    "version": 3
   },
   "file_extension": ".py",
   "mimetype": "text/x-python",
   "name": "python",
   "nbconvert_exporter": "python",
   "pygments_lexer": "ipython3",
   "version": "3.7.3"
  }
 },
 "nbformat": 4,
 "nbformat_minor": 2
}
